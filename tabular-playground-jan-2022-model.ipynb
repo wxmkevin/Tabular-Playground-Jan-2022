{
 "cells": [
  {
   "cell_type": "code",
   "execution_count": 1,
   "id": "d5949b2e",
   "metadata": {
    "_cell_guid": "b1076dfc-b9ad-4769-8c92-a6c4dae69d19",
    "_uuid": "8f2839f25d086af736a60e9eeb907d3b93b6e0e5",
    "execution": {
     "iopub.execute_input": "2022-02-19T07:14:04.541562Z",
     "iopub.status.busy": "2022-02-19T07:14:04.540508Z",
     "iopub.status.idle": "2022-02-19T07:14:04.555914Z",
     "shell.execute_reply": "2022-02-19T07:14:04.555262Z",
     "shell.execute_reply.started": "2022-02-19T06:54:32.841463Z"
    },
    "papermill": {
     "duration": 0.041755,
     "end_time": "2022-02-19T07:14:04.556067",
     "exception": false,
     "start_time": "2022-02-19T07:14:04.514312",
     "status": "completed"
    },
    "tags": []
   },
   "outputs": [
    {
     "name": "stdout",
     "output_type": "stream",
     "text": [
      "/kaggle/input/tabular-playground-series-jan-2022/sample_submission.csv\n",
      "/kaggle/input/tabular-playground-series-jan-2022/train.csv\n",
      "/kaggle/input/tabular-playground-series-jan-2022/test.csv\n"
     ]
    }
   ],
   "source": [
    "# This Python 3 environment comes with many helpful analytics libraries installed\n",
    "# It is defined by the kaggle/python Docker image: https://github.com/kaggle/docker-python\n",
    "# For example, here's several helpful packages to load\n",
    "\n",
    "import numpy as np # linear algebra\n",
    "import pandas as pd # data processing, CSV file I/O (e.g. pd.read_csv)\n",
    "\n",
    "import warnings\n",
    "warnings.filterwarnings(\"ignore\")\n",
    "# Input data files are available in the read-only \"../input/\" directory\n",
    "# For example, running this (by clicking run or pressing Shift+Enter) will list all files under the input directory\n",
    "\n",
    "import os\n",
    "for dirname, _, filenames in os.walk('/kaggle/input'):\n",
    "    for filename in filenames:\n",
    "        print(os.path.join(dirname, filename))\n",
    "\n",
    "path = '/kaggle/input/tabular-playground-series-jan-2022/'\n",
    "# You can write up to 20GB to the current directory (/kaggle/working/) that gets preserved as output when you create a version using \"Save & Run All\" \n",
    "# You can also write temporary files to /kaggle/temp/, but they won't be saved outside of the current session"
   ]
  },
  {
   "cell_type": "code",
   "execution_count": 2,
   "id": "3de5b956",
   "metadata": {
    "execution": {
     "iopub.execute_input": "2022-02-19T07:14:04.609662Z",
     "iopub.status.busy": "2022-02-19T07:14:04.608648Z",
     "iopub.status.idle": "2022-02-19T07:14:05.776486Z",
     "shell.execute_reply": "2022-02-19T07:14:05.775927Z",
     "shell.execute_reply.started": "2022-02-19T06:54:33.042868Z"
    },
    "papermill": {
     "duration": 1.198988,
     "end_time": "2022-02-19T07:14:05.776673",
     "exception": false,
     "start_time": "2022-02-19T07:14:04.577685",
     "status": "completed"
    },
    "tags": []
   },
   "outputs": [],
   "source": [
    "from sklearn.linear_model import Ridge, Lasso, LinearRegression\n",
    "from sklearn.pipeline import make_pipeline\n",
    "from sklearn.preprocessing import MinMaxScaler\n",
    "import xgboost as xgb\n",
    "import dateutil.easter as easter\n",
    "from sklearn.model_selection import GridSearchCV\n",
    "from matplotlib import pyplot as plt"
   ]
  },
  {
   "cell_type": "code",
   "execution_count": 3,
   "id": "f7d36b82",
   "metadata": {
    "execution": {
     "iopub.execute_input": "2022-02-19T07:14:05.830766Z",
     "iopub.status.busy": "2022-02-19T07:14:05.830101Z",
     "iopub.status.idle": "2022-02-19T07:14:05.832065Z",
     "shell.execute_reply": "2022-02-19T07:14:05.832524Z",
     "shell.execute_reply.started": "2022-02-19T06:54:34.351819Z"
    },
    "papermill": {
     "duration": 0.033304,
     "end_time": "2022-02-19T07:14:05.832709",
     "exception": false,
     "start_time": "2022-02-19T07:14:05.799405",
     "status": "completed"
    },
    "tags": []
   },
   "outputs": [],
   "source": [
    "gdp_df = pd.DataFrame([[234.440, 385.802, 505.104], [240.608, 368.827, 515.655], [255.017, 398.394, 541.019], [275.580, 437.000, 555.455], [268.782, 405.510, 533.880]], \n",
    "                   index=[2015, 2016, 2017, 2018, 2019], columns=['Finland', 'Norway', 'Sweden'])"
   ]
  },
  {
   "cell_type": "code",
   "execution_count": 4,
   "id": "63680234",
   "metadata": {
    "execution": {
     "iopub.execute_input": "2022-02-19T07:14:05.883932Z",
     "iopub.status.busy": "2022-02-19T07:14:05.880982Z",
     "iopub.status.idle": "2022-02-19T07:14:05.976358Z",
     "shell.execute_reply": "2022-02-19T07:14:05.975826Z",
     "shell.execute_reply.started": "2022-02-19T06:54:34.361345Z"
    },
    "papermill": {
     "duration": 0.121112,
     "end_time": "2022-02-19T07:14:05.976502",
     "exception": false,
     "start_time": "2022-02-19T07:14:05.855390",
     "status": "completed"
    },
    "tags": []
   },
   "outputs": [],
   "source": [
    "train_data = pd.read_csv(path + 'train.csv', index_col=0, parse_dates=['date'])\n",
    "test_data = pd.read_csv(path + 'test.csv', index_col=0, parse_dates=['date'])"
   ]
  },
  {
   "cell_type": "code",
   "execution_count": 5,
   "id": "c2b1d449",
   "metadata": {
    "execution": {
     "iopub.execute_input": "2022-02-19T07:14:06.026180Z",
     "iopub.status.busy": "2022-02-19T07:14:06.025435Z",
     "iopub.status.idle": "2022-02-19T07:14:06.035089Z",
     "shell.execute_reply": "2022-02-19T07:14:06.035582Z",
     "shell.execute_reply.started": "2022-02-19T06:54:34.472978Z"
    },
    "papermill": {
     "duration": 0.036306,
     "end_time": "2022-02-19T07:14:06.035766",
     "exception": false,
     "start_time": "2022-02-19T07:14:05.999460",
     "status": "completed"
    },
    "tags": []
   },
   "outputs": [],
   "source": [
    "gdp_merge = gdp_df.reset_index().melt(id_vars=['index'])\n",
    "gdp_merge.columns = ['year', 'country', 'gdp']"
   ]
  },
  {
   "cell_type": "code",
   "execution_count": 6,
   "id": "ce4f179f",
   "metadata": {
    "execution": {
     "iopub.execute_input": "2022-02-19T07:14:06.085149Z",
     "iopub.status.busy": "2022-02-19T07:14:06.084520Z",
     "iopub.status.idle": "2022-02-19T07:14:06.131137Z",
     "shell.execute_reply": "2022-02-19T07:14:06.131672Z",
     "shell.execute_reply.started": "2022-02-19T06:54:34.487983Z"
    },
    "papermill": {
     "duration": 0.072713,
     "end_time": "2022-02-19T07:14:06.131843",
     "exception": false,
     "start_time": "2022-02-19T07:14:06.059130",
     "status": "completed"
    },
    "tags": []
   },
   "outputs": [],
   "source": [
    "from statsmodels.tsa.deterministic import CalendarFourier, DeterministicProcess\n",
    "\n",
    "fourier = CalendarFourier(freq=\"A\", order=10)  # 10 sin/cos pairs for \"A\"nnual seasonality\n",
    "\n",
    "dp = DeterministicProcess(\n",
    "    index=np.concatenate([train_data.date.unique(), test_data.date.unique()]),\n",
    "    constant=False,               # dummy feature for bias (y-intercept)\n",
    "    order=0,                     # trend (order 1 means linear)\n",
    "    seasonal=True,               # weekly seasonality (indicators)\n",
    "    additional_terms=[fourier],  # annual seasonality (fourier)\n",
    "    drop=True,                   # drop terms to avoid collinearity\n",
    ")"
   ]
  },
  {
   "cell_type": "code",
   "execution_count": 7,
   "id": "af00d95a",
   "metadata": {
    "execution": {
     "iopub.execute_input": "2022-02-19T07:14:06.179789Z",
     "iopub.status.busy": "2022-02-19T07:14:06.179131Z",
     "iopub.status.idle": "2022-02-19T07:14:06.208522Z",
     "shell.execute_reply": "2022-02-19T07:14:06.208040Z",
     "shell.execute_reply.started": "2022-02-19T06:54:34.557205Z"
    },
    "papermill": {
     "duration": 0.054544,
     "end_time": "2022-02-19T07:14:06.208678",
     "exception": false,
     "start_time": "2022-02-19T07:14:06.154134",
     "status": "completed"
    },
    "tags": []
   },
   "outputs": [],
   "source": [
    "def feature_engineering(train_data, train=True):\n",
    "    data = train_data.copy(deep=True)\n",
    "    if train:\n",
    "        # sales log transformation\n",
    "        data['num_sold'] = np.log(data['num_sold'])\n",
    "        y = data['num_sold']\n",
    "\n",
    "    # get year feature\n",
    "    data['year'] = data.date.dt.year \n",
    "    \n",
    "    # get gdp feature\n",
    "    data = data.merge(gdp_merge, on=['year', 'country']) \n",
    "    data['gdp'] = np.log(data.gdp)\n",
    "        \n",
    "    # get country feature\n",
    "    data['Finland'] = (data.country == 'Finland')\n",
    "    data['Norway'] = (data.country == 'Norway')\n",
    "\n",
    "    # get store feature\n",
    "    data['KaggleRama'] = (data.store == 'KaggleRama')\n",
    "\n",
    "    # get product feature\n",
    "    data['Kaggle Mug'] = (data['product'] == 'Kaggle Mug')\n",
    "    data['Kaggle Hat'] = (data['product'] == 'Kaggle Hat')\n",
    "\n",
    "    X = dp.in_sample() \n",
    "    X_mug = X.copy(deep=True) # * np.array(data['Kaggle Mug']).reshape(-1, 1)\n",
    "    X_mug.columns = ['mug_' + col for col in X.columns]\n",
    "    X_hat = X.copy(deep=True) # * np.array(data['Kaggle Hat']).reshape(-1, 1)\n",
    "    X_hat.columns = ['hat_' + col for col in X.columns]\n",
    "    \n",
    "    data = data.merge(X, left_on='date', right_index=True)\n",
    "    data = data.merge(X_mug, left_on='date', right_index=True)\n",
    "    data[X_mug.columns] = data[X_mug.columns] * np.array(data['Kaggle Mug']).reshape(-1, 1)\n",
    "    data = data.merge(X_hat, left_on='date', right_index=True)\n",
    "    data[X_hat.columns] = data[X_hat.columns] * np.array(data['Kaggle Hat']).reshape(-1, 1)\n",
    "    \n",
    "    # December feature\n",
    "    for d in range(24, 32):\n",
    "        data[f\"dec{d}\"] = (data.date.dt.month == 12) & (data.date.dt.day == d)\n",
    "        data[f\"Norway_dec{d}\"] = (data.date.dt.month == 12) & (data.date.dt.day == d) & (data.country == 'Norway')\n",
    "    for d in list(range(6, 14)):\n",
    "        data[f\"Finland_dec{d}\"] = (data.date.dt.month == 12) & (data.date.dt.day == d) & (data.country == 'Finland')\n",
    "\n",
    "    # Jan feature\n",
    "    for d in range(1, 14):\n",
    "        data[f\"Finland_jan{d}\"] = (data.date.dt.month == 1) & (data.date.dt.day == d) & (data.country == 'Finland')\n",
    "\n",
    "    for d in range(1, 10):\n",
    "        data[f\"Norway_jan{d}\"] = (data.date.dt.month == 1) & (data.date.dt.day == d) & (data.country == 'Norway')\n",
    "\n",
    "    for d in range(1, 15):\n",
    "        data[f\"Sweden_jan{d}\"] = (data.date.dt.month == 1) & (data.date.dt.day == d) & (data.country == 'Sweden')\n",
    "\n",
    "    # May feature\n",
    "    for d in list(range(1, 10)):\n",
    "        data[f\"may{d}\"] = (data.date.dt.month == 5) & (data.date.dt.day == d) \n",
    "    for d in list(range(19, 26)):\n",
    "        data[f\"Norway_may{d}\"] = (data.date.dt.month == 5) & (data.date.dt.day == d) & (data.country == 'Norway')\n",
    "\n",
    "    # June feature\n",
    "    for d in range(8, 14):\n",
    "        data[f\"Sweden_Jun{d}\"] = (data.date.dt.month == 6) & (data.date.dt.day == d) & (data.country == 'Sweden')\n",
    "\n",
    "    # Special June days\n",
    "    jun_base = pd.Series([pd.Timestamp(('2015-06-24')), pd.Timestamp(('2016-06-29')), \n",
    "                          pd.Timestamp(('2017-06-28')), pd.Timestamp(('2018-06-27')), pd.Timestamp(('2019-06-26'))])\n",
    "    for d in range(-4, 6):\n",
    "        data[f'Norway_Jun_wed{d}'] = (data.date.isin(jun_base + pd.DateOffset(d))) & (data.country == 'Norway')\n",
    "\n",
    "    # First Sunday of November\n",
    "    nov_base = pd.Series([pd.Timestamp(('2015-11-1')), pd.Timestamp(('2016-11-6')),\n",
    "                          pd.Timestamp(('2017-11-5')), pd.Timestamp(('2018-11-4')),pd.Timestamp(('2019-11-3'))])\n",
    "    for d in range(0, 9):\n",
    "        data[f'Norway_Nov_sun{d}'] = (data.date.isin(jun_base + pd.DateOffset(d))) & (data.country == 'Norway')\n",
    "\n",
    "    # Easter\n",
    "    easters = pd.Series([pd.Timestamp(easter.easter(year)) for year in range(2015, 2020)])\n",
    "    for d in list(range(-2, 11)):\n",
    "        data[f'easter{d}'] = (data.date.isin(easters + pd.DateOffset(d)))\n",
    "    \n",
    "    data['const'] = 1\n",
    "    if train:\n",
    "        X = data.drop(columns=['date', 'country', 'store', 'product', 'num_sold', 'year'])\n",
    "#         y = data['num_sold']\n",
    "        groups = data.year\n",
    "        return X, y, groups\n",
    "    \n",
    "    else:\n",
    "        return data.drop(columns=['date', 'country', 'store', 'product', 'year'])"
   ]
  },
  {
   "cell_type": "code",
   "execution_count": 8,
   "id": "31d608c5",
   "metadata": {
    "execution": {
     "iopub.execute_input": "2022-02-19T07:14:06.257160Z",
     "iopub.status.busy": "2022-02-19T07:14:06.256557Z",
     "iopub.status.idle": "2022-02-19T07:14:07.395393Z",
     "shell.execute_reply": "2022-02-19T07:14:07.394883Z",
     "shell.execute_reply.started": "2022-02-19T06:54:34.582097Z"
    },
    "papermill": {
     "duration": 1.164111,
     "end_time": "2022-02-19T07:14:07.395532",
     "exception": false,
     "start_time": "2022-02-19T07:14:06.231421",
     "status": "completed"
    },
    "tags": []
   },
   "outputs": [],
   "source": [
    "X, y, groups = feature_engineering(train_data)"
   ]
  },
  {
   "cell_type": "markdown",
   "id": "f107089d",
   "metadata": {
    "papermill": {
     "duration": 0.022456,
     "end_time": "2022-02-19T07:14:07.440985",
     "exception": false,
     "start_time": "2022-02-19T07:14:07.418529",
     "status": "completed"
    },
    "tags": []
   },
   "source": [
    "# Feature Selection via Lasso"
   ]
  },
  {
   "cell_type": "code",
   "execution_count": 9,
   "id": "ee42481d",
   "metadata": {
    "execution": {
     "iopub.execute_input": "2022-02-19T07:14:07.492187Z",
     "iopub.status.busy": "2022-02-19T07:14:07.491487Z",
     "iopub.status.idle": "2022-02-19T07:14:07.493795Z",
     "shell.execute_reply": "2022-02-19T07:14:07.494284Z",
     "shell.execute_reply.started": "2022-02-19T05:58:52.793897Z"
    },
    "papermill": {
     "duration": 0.030584,
     "end_time": "2022-02-19T07:14:07.494452",
     "exception": false,
     "start_time": "2022-02-19T07:14:07.463868",
     "status": "completed"
    },
    "tags": []
   },
   "outputs": [],
   "source": [
    "best_alpha=1e-6\n",
    "model = Lasso()\n",
    "parameters = {'alpha': np.logspace(-8, 0, 16)}"
   ]
  },
  {
   "cell_type": "code",
   "execution_count": 10,
   "id": "b1dc9ce1",
   "metadata": {
    "execution": {
     "iopub.execute_input": "2022-02-19T07:14:07.543965Z",
     "iopub.status.busy": "2022-02-19T07:14:07.543311Z",
     "iopub.status.idle": "2022-02-19T07:18:28.135474Z",
     "shell.execute_reply": "2022-02-19T07:18:28.136343Z",
     "shell.execute_reply.started": "2022-02-19T05:58:53.014715Z"
    },
    "papermill": {
     "duration": 260.618341,
     "end_time": "2022-02-19T07:18:28.136687",
     "exception": false,
     "start_time": "2022-02-19T07:14:07.518346",
     "status": "completed"
    },
    "tags": []
   },
   "outputs": [
    {
     "name": "stdout",
     "output_type": "stream",
     "text": [
      "Fitting 5 folds for each of 16 candidates, totalling 80 fits\n",
      "[CV] alpha=1e-08 .....................................................\n"
     ]
    },
    {
     "name": "stderr",
     "output_type": "stream",
     "text": [
      "[Parallel(n_jobs=1)]: Using backend SequentialBackend with 1 concurrent workers.\n"
     ]
    },
    {
     "name": "stdout",
     "output_type": "stream",
     "text": [
      "[CV] ........................ alpha=1e-08, score=-0.004, total=   5.7s\n",
      "[CV] alpha=1e-08 .....................................................\n"
     ]
    },
    {
     "name": "stderr",
     "output_type": "stream",
     "text": [
      "[Parallel(n_jobs=1)]: Done   1 out of   1 | elapsed:    5.7s remaining:    0.0s\n"
     ]
    },
    {
     "name": "stdout",
     "output_type": "stream",
     "text": [
      "[CV] ........................ alpha=1e-08, score=-0.004, total=   5.9s\n",
      "[CV] alpha=1e-08 .....................................................\n"
     ]
    },
    {
     "name": "stderr",
     "output_type": "stream",
     "text": [
      "[Parallel(n_jobs=1)]: Done   2 out of   2 | elapsed:   11.6s remaining:    0.0s\n"
     ]
    },
    {
     "name": "stdout",
     "output_type": "stream",
     "text": [
      "[CV] ........................ alpha=1e-08, score=-0.003, total=   5.8s\n",
      "[CV] alpha=1e-08 .....................................................\n",
      "[CV] ........................ alpha=1e-08, score=-0.004, total=   6.5s\n",
      "[CV] alpha=1e-08 .....................................................\n",
      "[CV] ........................ alpha=1e-08, score=-0.004, total=   5.4s\n",
      "[CV] alpha=3.4145488738336004e-08 ....................................\n",
      "[CV] ....... alpha=3.4145488738336004e-08, score=-0.004, total=   5.5s\n",
      "[CV] alpha=3.4145488738336004e-08 ....................................\n",
      "[CV] ....... alpha=3.4145488738336004e-08, score=-0.004, total=   5.8s\n",
      "[CV] alpha=3.4145488738336004e-08 ....................................\n",
      "[CV] ....... alpha=3.4145488738336004e-08, score=-0.003, total=   5.5s\n",
      "[CV] alpha=3.4145488738336004e-08 ....................................\n",
      "[CV] ....... alpha=3.4145488738336004e-08, score=-0.004, total=   5.5s\n",
      "[CV] alpha=3.4145488738336004e-08 ....................................\n",
      "[CV] ....... alpha=3.4145488738336004e-08, score=-0.004, total=   6.2s\n",
      "[CV] alpha=1.1659144011798311e-07 ....................................\n",
      "[CV] ....... alpha=1.1659144011798311e-07, score=-0.004, total=   5.9s\n",
      "[CV] alpha=1.1659144011798311e-07 ....................................\n",
      "[CV] ....... alpha=1.1659144011798311e-07, score=-0.004, total=   5.8s\n",
      "[CV] alpha=1.1659144011798311e-07 ....................................\n",
      "[CV] ....... alpha=1.1659144011798311e-07, score=-0.003, total=   6.3s\n",
      "[CV] alpha=1.1659144011798311e-07 ....................................\n",
      "[CV] ....... alpha=1.1659144011798311e-07, score=-0.004, total=   5.5s\n",
      "[CV] alpha=1.1659144011798311e-07 ....................................\n",
      "[CV] ....... alpha=1.1659144011798311e-07, score=-0.004, total=   6.3s\n",
      "[CV] alpha=3.981071705534969e-07 .....................................\n",
      "[CV] ........ alpha=3.981071705534969e-07, score=-0.004, total=   5.5s\n",
      "[CV] alpha=3.981071705534969e-07 .....................................\n",
      "[CV] ........ alpha=3.981071705534969e-07, score=-0.004, total=   5.7s\n",
      "[CV] alpha=3.981071705534969e-07 .....................................\n",
      "[CV] ........ alpha=3.981071705534969e-07, score=-0.003, total=   5.4s\n",
      "[CV] alpha=3.981071705534969e-07 .....................................\n",
      "[CV] ........ alpha=3.981071705534969e-07, score=-0.004, total=   5.9s\n",
      "[CV] alpha=3.981071705534969e-07 .....................................\n",
      "[CV] ........ alpha=3.981071705534969e-07, score=-0.004, total=   5.5s\n",
      "[CV] alpha=1.3593563908785242e-06 ....................................\n",
      "[CV] ....... alpha=1.3593563908785242e-06, score=-0.004, total=   7.2s\n",
      "[CV] alpha=1.3593563908785242e-06 ....................................\n",
      "[CV] ....... alpha=1.3593563908785242e-06, score=-0.004, total=   6.1s\n",
      "[CV] alpha=1.3593563908785242e-06 ....................................\n",
      "[CV] ....... alpha=1.3593563908785242e-06, score=-0.003, total=   5.9s\n",
      "[CV] alpha=1.3593563908785242e-06 ....................................\n",
      "[CV] ....... alpha=1.3593563908785242e-06, score=-0.004, total=   5.6s\n",
      "[CV] alpha=1.3593563908785242e-06 ....................................\n",
      "[CV] ....... alpha=1.3593563908785242e-06, score=-0.004, total=   5.4s\n",
      "[CV] alpha=4.641588833612773e-06 .....................................\n",
      "[CV] ........ alpha=4.641588833612773e-06, score=-0.004, total=   5.0s\n",
      "[CV] alpha=4.641588833612773e-06 .....................................\n",
      "[CV] ........ alpha=4.641588833612773e-06, score=-0.004, total=   4.9s\n",
      "[CV] alpha=4.641588833612773e-06 .....................................\n",
      "[CV] ........ alpha=4.641588833612773e-06, score=-0.003, total=   4.9s\n",
      "[CV] alpha=4.641588833612773e-06 .....................................\n",
      "[CV] ........ alpha=4.641588833612773e-06, score=-0.004, total=   4.8s\n",
      "[CV] alpha=4.641588833612773e-06 .....................................\n",
      "[CV] ........ alpha=4.641588833612773e-06, score=-0.004, total=   5.3s\n",
      "[CV] alpha=1.584893192461114e-05 .....................................\n",
      "[CV] ........ alpha=1.584893192461114e-05, score=-0.004, total=   4.9s\n",
      "[CV] alpha=1.584893192461114e-05 .....................................\n",
      "[CV] ........ alpha=1.584893192461114e-05, score=-0.004, total=   4.7s\n",
      "[CV] alpha=1.584893192461114e-05 .....................................\n",
      "[CV] ........ alpha=1.584893192461114e-05, score=-0.003, total=   5.6s\n",
      "[CV] alpha=1.584893192461114e-05 .....................................\n",
      "[CV] ........ alpha=1.584893192461114e-05, score=-0.004, total=   4.7s\n",
      "[CV] alpha=1.584893192461114e-05 .....................................\n",
      "[CV] ........ alpha=1.584893192461114e-05, score=-0.004, total=   4.9s\n",
      "[CV] alpha=5.411695265464637e-05 .....................................\n",
      "[CV] ........ alpha=5.411695265464637e-05, score=-0.004, total=   2.5s\n",
      "[CV] alpha=5.411695265464637e-05 .....................................\n",
      "[CV] ........ alpha=5.411695265464637e-05, score=-0.005, total=   2.2s\n",
      "[CV] alpha=5.411695265464637e-05 .....................................\n",
      "[CV] ........ alpha=5.411695265464637e-05, score=-0.004, total=   2.3s\n",
      "[CV] alpha=5.411695265464637e-05 .....................................\n",
      "[CV] ........ alpha=5.411695265464637e-05, score=-0.005, total=   2.2s\n",
      "[CV] alpha=5.411695265464637e-05 .....................................\n",
      "[CV] ........ alpha=5.411695265464637e-05, score=-0.004, total=   2.5s\n",
      "[CV] alpha=0.00018478497974222906 ....................................\n",
      "[CV] ....... alpha=0.00018478497974222906, score=-0.005, total=   1.6s\n",
      "[CV] alpha=0.00018478497974222906 ....................................\n",
      "[CV] ....... alpha=0.00018478497974222906, score=-0.006, total=   1.6s\n",
      "[CV] alpha=0.00018478497974222906 ....................................\n",
      "[CV] ....... alpha=0.00018478497974222906, score=-0.005, total=   1.5s\n",
      "[CV] alpha=0.00018478497974222906 ....................................\n",
      "[CV] ....... alpha=0.00018478497974222906, score=-0.005, total=   1.6s\n",
      "[CV] alpha=0.00018478497974222906 ....................................\n",
      "[CV] ....... alpha=0.00018478497974222906, score=-0.005, total=   2.0s\n",
      "[CV] alpha=0.000630957344480193 ......................................\n",
      "[CV] ......... alpha=0.000630957344480193, score=-0.008, total=   2.0s\n",
      "[CV] alpha=0.000630957344480193 ......................................\n",
      "[CV] ......... alpha=0.000630957344480193, score=-0.010, total=   1.4s\n",
      "[CV] alpha=0.000630957344480193 ......................................\n",
      "[CV] ......... alpha=0.000630957344480193, score=-0.008, total=   1.4s\n",
      "[CV] alpha=0.000630957344480193 ......................................\n",
      "[CV] ......... alpha=0.000630957344480193, score=-0.008, total=   1.4s\n",
      "[CV] alpha=0.000630957344480193 ......................................\n",
      "[CV] ......... alpha=0.000630957344480193, score=-0.014, total=   1.6s\n",
      "[CV] alpha=0.002154434690031882 ......................................\n",
      "[CV] ......... alpha=0.002154434690031882, score=-0.013, total=   1.0s\n",
      "[CV] alpha=0.002154434690031882 ......................................\n",
      "[CV] ......... alpha=0.002154434690031882, score=-0.017, total=   1.0s\n",
      "[CV] alpha=0.002154434690031882 ......................................\n",
      "[CV] ......... alpha=0.002154434690031882, score=-0.013, total=   1.0s\n",
      "[CV] alpha=0.002154434690031882 ......................................\n",
      "[CV] ......... alpha=0.002154434690031882, score=-0.014, total=   1.0s\n",
      "[CV] alpha=0.002154434690031882 ......................................\n",
      "[CV] ......... alpha=0.002154434690031882, score=-0.023, total=   1.1s\n",
      "[CV] alpha=0.007356422544596406 ......................................\n",
      "[CV] ......... alpha=0.007356422544596406, score=-0.020, total=   1.0s\n",
      "[CV] alpha=0.007356422544596406 ......................................\n",
      "[CV] ......... alpha=0.007356422544596406, score=-0.022, total=   1.0s\n",
      "[CV] alpha=0.007356422544596406 ......................................\n",
      "[CV] ......... alpha=0.007356422544596406, score=-0.019, total=   1.1s\n",
      "[CV] alpha=0.007356422544596406 ......................................\n",
      "[CV] ......... alpha=0.007356422544596406, score=-0.020, total=   1.0s\n",
      "[CV] alpha=0.007356422544596406 ......................................\n",
      "[CV] ......... alpha=0.007356422544596406, score=-0.032, total=   1.0s\n",
      "[CV] alpha=0.025118864315095822 ......................................\n",
      "[CV] ......... alpha=0.025118864315095822, score=-0.055, total=   1.0s\n",
      "[CV] alpha=0.025118864315095822 ......................................\n",
      "[CV] ......... alpha=0.025118864315095822, score=-0.058, total=   1.0s\n",
      "[CV] alpha=0.025118864315095822 ......................................\n",
      "[CV] ......... alpha=0.025118864315095822, score=-0.057, total=   1.0s\n",
      "[CV] alpha=0.025118864315095822 ......................................\n",
      "[CV] ......... alpha=0.025118864315095822, score=-0.055, total=   1.0s\n",
      "[CV] alpha=0.025118864315095822 ......................................\n",
      "[CV] ......... alpha=0.025118864315095822, score=-0.061, total=   1.0s\n",
      "[CV] alpha=0.08576958985908946 .......................................\n",
      "[CV] .......... alpha=0.08576958985908946, score=-0.229, total=   1.0s\n",
      "[CV] alpha=0.08576958985908946 .......................................\n",
      "[CV] .......... alpha=0.08576958985908946, score=-0.227, total=   1.0s\n",
      "[CV] alpha=0.08576958985908946 .......................................\n",
      "[CV] .......... alpha=0.08576958985908946, score=-0.219, total=   1.0s\n",
      "[CV] alpha=0.08576958985908946 .......................................\n",
      "[CV] .......... alpha=0.08576958985908946, score=-0.208, total=   1.0s\n",
      "[CV] alpha=0.08576958985908946 .......................................\n",
      "[CV] .......... alpha=0.08576958985908946, score=-0.219, total=   1.0s\n",
      "[CV] alpha=0.29286445646252374 .......................................\n",
      "[CV] .......... alpha=0.29286445646252374, score=-0.439, total=   0.9s\n",
      "[CV] alpha=0.29286445646252374 .......................................\n",
      "[CV] .......... alpha=0.29286445646252374, score=-0.439, total=   1.0s\n",
      "[CV] alpha=0.29286445646252374 .......................................\n",
      "[CV] .......... alpha=0.29286445646252374, score=-0.419, total=   1.0s\n",
      "[CV] alpha=0.29286445646252374 .......................................\n",
      "[CV] .......... alpha=0.29286445646252374, score=-0.400, total=   1.0s\n",
      "[CV] alpha=0.29286445646252374 .......................................\n",
      "[CV] .......... alpha=0.29286445646252374, score=-0.418, total=   1.0s\n",
      "[CV] alpha=1.0 .......................................................\n",
      "[CV] .......................... alpha=1.0, score=-0.439, total=   1.0s\n",
      "[CV] alpha=1.0 .......................................................\n",
      "[CV] .......................... alpha=1.0, score=-0.439, total=   1.0s\n",
      "[CV] alpha=1.0 .......................................................\n",
      "[CV] .......................... alpha=1.0, score=-0.419, total=   1.0s\n",
      "[CV] alpha=1.0 .......................................................\n",
      "[CV] .......................... alpha=1.0, score=-0.400, total=   1.0s\n",
      "[CV] alpha=1.0 .......................................................\n",
      "[CV] .......................... alpha=1.0, score=-0.418, total=   1.0s\n"
     ]
    },
    {
     "name": "stderr",
     "output_type": "stream",
     "text": [
      "[Parallel(n_jobs=1)]: Done  80 out of  80 | elapsed:  4.2min finished\n"
     ]
    },
    {
     "data": {
      "text/plain": [
       "GridSearchCV(estimator=Lasso(),\n",
       "             param_grid={'alpha': array([1.00000000e-08, 3.41454887e-08, 1.16591440e-07, 3.98107171e-07,\n",
       "       1.35935639e-06, 4.64158883e-06, 1.58489319e-05, 5.41169527e-05,\n",
       "       1.84784980e-04, 6.30957344e-04, 2.15443469e-03, 7.35642254e-03,\n",
       "       2.51188643e-02, 8.57695899e-02, 2.92864456e-01, 1.00000000e+00])},\n",
       "             scoring='neg_mean_squared_error', verbose=3)"
      ]
     },
     "execution_count": 10,
     "metadata": {},
     "output_type": "execute_result"
    }
   ],
   "source": [
    "gs = GridSearchCV(model, parameters, scoring='neg_mean_squared_error', verbose=3)\n",
    "gs.fit(X, y, groups=groups)"
   ]
  },
  {
   "cell_type": "code",
   "execution_count": 11,
   "id": "4f16261b",
   "metadata": {
    "execution": {
     "iopub.execute_input": "2022-02-19T07:18:28.241769Z",
     "iopub.status.busy": "2022-02-19T07:18:28.241135Z",
     "iopub.status.idle": "2022-02-19T07:18:28.244531Z",
     "shell.execute_reply": "2022-02-19T07:18:28.243940Z",
     "shell.execute_reply.started": "2022-02-19T06:03:57.486966Z"
    },
    "papermill": {
     "duration": 0.058105,
     "end_time": "2022-02-19T07:18:28.244678",
     "exception": false,
     "start_time": "2022-02-19T07:18:28.186573",
     "status": "completed"
    },
    "tags": []
   },
   "outputs": [
    {
     "data": {
      "text/plain": [
       "Lasso(alpha=3.981071705534969e-07)"
      ]
     },
     "execution_count": 11,
     "metadata": {},
     "output_type": "execute_result"
    }
   ],
   "source": [
    "gs.best_estimator_"
   ]
  },
  {
   "cell_type": "code",
   "execution_count": 12,
   "id": "f78af0a1",
   "metadata": {
    "execution": {
     "iopub.execute_input": "2022-02-19T07:18:28.350377Z",
     "iopub.status.busy": "2022-02-19T07:18:28.349780Z",
     "iopub.status.idle": "2022-02-19T07:18:28.352683Z",
     "shell.execute_reply": "2022-02-19T07:18:28.352127Z",
     "shell.execute_reply.started": "2022-02-19T06:54:28.412222Z"
    },
    "papermill": {
     "duration": 0.058537,
     "end_time": "2022-02-19T07:18:28.352818",
     "exception": false,
     "start_time": "2022-02-19T07:18:28.294281",
     "status": "completed"
    },
    "tags": []
   },
   "outputs": [],
   "source": [
    "def smape_loss(y_true, y_pred, exp=False):\n",
    "    \"\"\"SMAPE Loss\"\"\"\n",
    "    if exp:\n",
    "        y_true = np.exp(y_true)\n",
    "        y_pred = np.exp(y_pred)\n",
    "    return np.abs(y_true - y_pred) / (y_true + np.abs(y_pred)) * 200"
   ]
  },
  {
   "cell_type": "code",
   "execution_count": 13,
   "id": "374a4398",
   "metadata": {
    "execution": {
     "iopub.execute_input": "2022-02-19T07:18:28.453720Z",
     "iopub.status.busy": "2022-02-19T07:18:28.453106Z",
     "iopub.status.idle": "2022-02-19T07:18:55.384065Z",
     "shell.execute_reply": "2022-02-19T07:18:55.385310Z",
     "shell.execute_reply.started": "2022-02-19T06:54:39.789389Z"
    },
    "papermill": {
     "duration": 26.983935,
     "end_time": "2022-02-19T07:18:55.385594",
     "exception": false,
     "start_time": "2022-02-19T07:18:28.401659",
     "status": "completed"
    },
    "tags": []
   },
   "outputs": [
    {
     "data": {
      "text/plain": [
       "Lasso(alpha=4e-07, max_iter=4000)"
      ]
     },
     "execution_count": 13,
     "metadata": {},
     "output_type": "execute_result"
    }
   ],
   "source": [
    "select_model = Lasso(alpha=4e-7, max_iter=4000)\n",
    "select_model.fit(X, y)"
   ]
  },
  {
   "cell_type": "code",
   "execution_count": 14,
   "id": "679dea35",
   "metadata": {
    "execution": {
     "iopub.execute_input": "2022-02-19T07:18:55.542984Z",
     "iopub.status.busy": "2022-02-19T07:18:55.542190Z",
     "iopub.status.idle": "2022-02-19T07:18:58.284559Z",
     "shell.execute_reply": "2022-02-19T07:18:58.285073Z",
     "shell.execute_reply.started": "2022-02-19T06:54:58.426541Z"
    },
    "papermill": {
     "duration": 2.809291,
     "end_time": "2022-02-19T07:18:58.285234",
     "exception": false,
     "start_time": "2022-02-19T07:18:55.475943",
     "status": "completed"
    },
    "tags": []
   },
   "outputs": [
    {
     "data": {
      "image/png": "[encoded data removed]",
      "text/plain": [
       "<Figure size 1728x864 with 1 Axes>"
      ]
     },
     "metadata": {
      "needs_background": "light"
     },
     "output_type": "display_data"
    }
   ],
   "source": [
    "plt.figure(figsize=(24, 12))\n",
    "plt.bar(X.columns, select_model.coef_)\n",
    "plt.xticks(rotation=75)\n",
    "plt.show()"
   ]
  },
  {
   "cell_type": "code",
   "execution_count": 15,
   "id": "529af441",
   "metadata": {
    "execution": {
     "iopub.execute_input": "2022-02-19T07:18:58.392614Z",
     "iopub.status.busy": "2022-02-19T07:18:58.392051Z",
     "iopub.status.idle": "2022-02-19T07:18:58.395705Z",
     "shell.execute_reply": "2022-02-19T07:18:58.396246Z",
     "shell.execute_reply.started": "2022-02-19T06:55:00.422384Z"
    },
    "papermill": {
     "duration": 0.058954,
     "end_time": "2022-02-19T07:18:58.396390",
     "exception": false,
     "start_time": "2022-02-19T07:18:58.337436",
     "status": "completed"
    },
    "tags": []
   },
   "outputs": [],
   "source": [
    "good_cols = X.columns[np.abs(select_model.coef_) > 1e-6]"
   ]
  },
  {
   "cell_type": "markdown",
   "id": "2c8b9133",
   "metadata": {
    "papermill": {
     "duration": 0.050545,
     "end_time": "2022-02-19T07:18:58.497909",
     "exception": false,
     "start_time": "2022-02-19T07:18:58.447364",
     "status": "completed"
    },
    "tags": []
   },
   "source": [
    "# Ridge Regression with Cross Validation"
   ]
  },
  {
   "cell_type": "code",
   "execution_count": 16,
   "id": "03ea6b51",
   "metadata": {
    "execution": {
     "iopub.execute_input": "2022-02-19T07:18:58.606785Z",
     "iopub.status.busy": "2022-02-19T07:18:58.604465Z",
     "iopub.status.idle": "2022-02-19T07:18:58.609679Z",
     "shell.execute_reply": "2022-02-19T07:18:58.609143Z",
     "shell.execute_reply.started": "2022-02-19T06:55:00.428411Z"
    },
    "papermill": {
     "duration": 0.060542,
     "end_time": "2022-02-19T07:18:58.609817",
     "exception": false,
     "start_time": "2022-02-19T07:18:58.549275",
     "status": "completed"
    },
    "tags": []
   },
   "outputs": [],
   "source": [
    "model = make_pipeline(MinMaxScaler(), Ridge())\n",
    "parameters = {'ridge__alpha': np.logspace(-8, -2, 16)}"
   ]
  },
  {
   "cell_type": "code",
   "execution_count": 17,
   "id": "14d33b8f",
   "metadata": {
    "execution": {
     "iopub.execute_input": "2022-02-19T07:18:58.726579Z",
     "iopub.status.busy": "2022-02-19T07:18:58.725933Z",
     "iopub.status.idle": "2022-02-19T07:21:06.226942Z",
     "shell.execute_reply": "2022-02-19T07:21:06.227909Z",
     "shell.execute_reply.started": "2022-02-19T06:18:52.339192Z"
    },
    "papermill": {
     "duration": 127.566361,
     "end_time": "2022-02-19T07:21:06.228184",
     "exception": false,
     "start_time": "2022-02-19T07:18:58.661823",
     "status": "completed"
    },
    "tags": []
   },
   "outputs": [
    {
     "name": "stdout",
     "output_type": "stream",
     "text": [
      "Fitting 5 folds for each of 16 candidates, totalling 80 fits\n",
      "[CV] ridge__alpha=1e-08 ..............................................\n"
     ]
    },
    {
     "name": "stderr",
     "output_type": "stream",
     "text": [
      "[Parallel(n_jobs=1)]: Using backend SequentialBackend with 1 concurrent workers.\n"
     ]
    },
    {
     "name": "stdout",
     "output_type": "stream",
     "text": [
      "[CV] ................. ridge__alpha=1e-08, score=-0.004, total=   1.6s\n",
      "[CV] ridge__alpha=1e-08 ..............................................\n"
     ]
    },
    {
     "name": "stderr",
     "output_type": "stream",
     "text": [
      "[Parallel(n_jobs=1)]: Done   1 out of   1 | elapsed:    1.6s remaining:    0.0s\n"
     ]
    },
    {
     "name": "stdout",
     "output_type": "stream",
     "text": [
      "[CV] ................. ridge__alpha=1e-08, score=-0.004, total=   1.6s\n",
      "[CV] ridge__alpha=1e-08 ..............................................\n"
     ]
    },
    {
     "name": "stderr",
     "output_type": "stream",
     "text": [
      "[Parallel(n_jobs=1)]: Done   2 out of   2 | elapsed:    3.2s remaining:    0.0s\n"
     ]
    },
    {
     "name": "stdout",
     "output_type": "stream",
     "text": [
      "[CV] ................. ridge__alpha=1e-08, score=-0.003, total=   1.7s\n",
      "[CV] ridge__alpha=1e-08 ..............................................\n",
      "[CV] ................. ridge__alpha=1e-08, score=-0.004, total=   1.6s\n",
      "[CV] ridge__alpha=1e-08 ..............................................\n",
      "[CV] ................. ridge__alpha=1e-08, score=-0.004, total=   1.7s\n",
      "[CV] ridge__alpha=2.511886431509582e-08 ..............................\n",
      "[CV] . ridge__alpha=2.511886431509582e-08, score=-0.004, total=   1.6s\n",
      "[CV] ridge__alpha=2.511886431509582e-08 ..............................\n",
      "[CV] . ridge__alpha=2.511886431509582e-08, score=-0.004, total=   1.6s\n",
      "[CV] ridge__alpha=2.511886431509582e-08 ..............................\n",
      "[CV] . ridge__alpha=2.511886431509582e-08, score=-0.003, total=   1.6s\n",
      "[CV] ridge__alpha=2.511886431509582e-08 ..............................\n",
      "[CV] . ridge__alpha=2.511886431509582e-08, score=-0.004, total=   1.6s\n",
      "[CV] ridge__alpha=2.511886431509582e-08 ..............................\n",
      "[CV] . ridge__alpha=2.511886431509582e-08, score=-0.004, total=   1.6s\n",
      "[CV] ridge__alpha=6.30957344480193e-08 ...............................\n",
      "[CV] .. ridge__alpha=6.30957344480193e-08, score=-0.004, total=   1.6s\n",
      "[CV] ridge__alpha=6.30957344480193e-08 ...............................\n",
      "[CV] .. ridge__alpha=6.30957344480193e-08, score=-0.004, total=   1.6s\n",
      "[CV] ridge__alpha=6.30957344480193e-08 ...............................\n",
      "[CV] .. ridge__alpha=6.30957344480193e-08, score=-0.003, total=   1.6s\n",
      "[CV] ridge__alpha=6.30957344480193e-08 ...............................\n",
      "[CV] .. ridge__alpha=6.30957344480193e-08, score=-0.004, total=   1.7s\n",
      "[CV] ridge__alpha=6.30957344480193e-08 ...............................\n",
      "[CV] .. ridge__alpha=6.30957344480193e-08, score=-0.004, total=   1.6s\n",
      "[CV] ridge__alpha=1.584893192461114e-07 ..............................\n",
      "[CV] . ridge__alpha=1.584893192461114e-07, score=-0.004, total=   1.6s\n",
      "[CV] ridge__alpha=1.584893192461114e-07 ..............................\n",
      "[CV] . ridge__alpha=1.584893192461114e-07, score=-0.004, total=   1.5s\n",
      "[CV] ridge__alpha=1.584893192461114e-07 ..............................\n",
      "[CV] . ridge__alpha=1.584893192461114e-07, score=-0.003, total=   1.6s\n",
      "[CV] ridge__alpha=1.584893192461114e-07 ..............................\n",
      "[CV] . ridge__alpha=1.584893192461114e-07, score=-0.004, total=   1.5s\n",
      "[CV] ridge__alpha=1.584893192461114e-07 ..............................\n",
      "[CV] . ridge__alpha=1.584893192461114e-07, score=-0.004, total=   1.5s\n",
      "[CV] ridge__alpha=3.981071705534969e-07 ..............................\n",
      "[CV] . ridge__alpha=3.981071705534969e-07, score=-0.004, total=   1.6s\n",
      "[CV] ridge__alpha=3.981071705534969e-07 ..............................\n",
      "[CV] . ridge__alpha=3.981071705534969e-07, score=-0.004, total=   1.6s\n",
      "[CV] ridge__alpha=3.981071705534969e-07 ..............................\n",
      "[CV] . ridge__alpha=3.981071705534969e-07, score=-0.003, total=   1.6s\n",
      "[CV] ridge__alpha=3.981071705534969e-07 ..............................\n",
      "[CV] . ridge__alpha=3.981071705534969e-07, score=-0.004, total=   1.5s\n",
      "[CV] ridge__alpha=3.981071705534969e-07 ..............................\n",
      "[CV] . ridge__alpha=3.981071705534969e-07, score=-0.004, total=   1.5s\n",
      "[CV] ridge__alpha=1e-06 ..............................................\n",
      "[CV] ................. ridge__alpha=1e-06, score=-0.004, total=   1.5s\n",
      "[CV] ridge__alpha=1e-06 ..............................................\n",
      "[CV] ................. ridge__alpha=1e-06, score=-0.004, total=   1.5s\n",
      "[CV] ridge__alpha=1e-06 ..............................................\n",
      "[CV] ................. ridge__alpha=1e-06, score=-0.003, total=   1.6s\n",
      "[CV] ridge__alpha=1e-06 ..............................................\n",
      "[CV] ................. ridge__alpha=1e-06, score=-0.004, total=   1.6s\n",
      "[CV] ridge__alpha=1e-06 ..............................................\n",
      "[CV] ................. ridge__alpha=1e-06, score=-0.004, total=   1.6s\n",
      "[CV] ridge__alpha=2.5118864315095823e-06 .............................\n",
      "[CV]  ridge__alpha=2.5118864315095823e-06, score=-0.004, total=   1.6s\n",
      "[CV] ridge__alpha=2.5118864315095823e-06 .............................\n",
      "[CV]  ridge__alpha=2.5118864315095823e-06, score=-0.004, total=   1.6s\n",
      "[CV] ridge__alpha=2.5118864315095823e-06 .............................\n",
      "[CV]  ridge__alpha=2.5118864315095823e-06, score=-0.003, total=   1.5s\n",
      "[CV] ridge__alpha=2.5118864315095823e-06 .............................\n",
      "[CV]  ridge__alpha=2.5118864315095823e-06, score=-0.004, total=   1.6s\n",
      "[CV] ridge__alpha=2.5118864315095823e-06 .............................\n",
      "[CV]  ridge__alpha=2.5118864315095823e-06, score=-0.004, total=   1.6s\n",
      "[CV] ridge__alpha=6.309573444801943e-06 ..............................\n",
      "[CV] . ridge__alpha=6.309573444801943e-06, score=-0.004, total=   1.6s\n",
      "[CV] ridge__alpha=6.309573444801943e-06 ..............................\n",
      "[CV] . ridge__alpha=6.309573444801943e-06, score=-0.004, total=   1.6s\n",
      "[CV] ridge__alpha=6.309573444801943e-06 ..............................\n",
      "[CV] . ridge__alpha=6.309573444801943e-06, score=-0.003, total=   1.6s\n",
      "[CV] ridge__alpha=6.309573444801943e-06 ..............................\n",
      "[CV] . ridge__alpha=6.309573444801943e-06, score=-0.004, total=   1.5s\n",
      "[CV] ridge__alpha=6.309573444801943e-06 ..............................\n",
      "[CV] . ridge__alpha=6.309573444801943e-06, score=-0.004, total=   1.5s\n",
      "[CV] ridge__alpha=1.584893192461114e-05 ..............................\n",
      "[CV] . ridge__alpha=1.584893192461114e-05, score=-0.004, total=   1.6s\n",
      "[CV] ridge__alpha=1.584893192461114e-05 ..............................\n",
      "[CV] . ridge__alpha=1.584893192461114e-05, score=-0.004, total=   1.6s\n",
      "[CV] ridge__alpha=1.584893192461114e-05 ..............................\n",
      "[CV] . ridge__alpha=1.584893192461114e-05, score=-0.003, total=   1.5s\n",
      "[CV] ridge__alpha=1.584893192461114e-05 ..............................\n",
      "[CV] . ridge__alpha=1.584893192461114e-05, score=-0.004, total=   1.6s\n",
      "[CV] ridge__alpha=1.584893192461114e-05 ..............................\n",
      "[CV] . ridge__alpha=1.584893192461114e-05, score=-0.004, total=   1.6s\n",
      "[CV] ridge__alpha=3.9810717055349695e-05 .............................\n",
      "[CV]  ridge__alpha=3.9810717055349695e-05, score=-0.004, total=   1.6s\n",
      "[CV] ridge__alpha=3.9810717055349695e-05 .............................\n",
      "[CV]  ridge__alpha=3.9810717055349695e-05, score=-0.004, total=   1.5s\n",
      "[CV] ridge__alpha=3.9810717055349695e-05 .............................\n",
      "[CV]  ridge__alpha=3.9810717055349695e-05, score=-0.003, total=   1.6s\n",
      "[CV] ridge__alpha=3.9810717055349695e-05 .............................\n",
      "[CV]  ridge__alpha=3.9810717055349695e-05, score=-0.004, total=   1.6s\n",
      "[CV] ridge__alpha=3.9810717055349695e-05 .............................\n",
      "[CV]  ridge__alpha=3.9810717055349695e-05, score=-0.004, total=   1.6s\n",
      "[CV] ridge__alpha=0.0001 .............................................\n",
      "[CV] ................ ridge__alpha=0.0001, score=-0.004, total=   1.6s\n",
      "[CV] ridge__alpha=0.0001 .............................................\n",
      "[CV] ................ ridge__alpha=0.0001, score=-0.004, total=   1.5s\n",
      "[CV] ridge__alpha=0.0001 .............................................\n",
      "[CV] ................ ridge__alpha=0.0001, score=-0.003, total=   1.6s\n",
      "[CV] ridge__alpha=0.0001 .............................................\n",
      "[CV] ................ ridge__alpha=0.0001, score=-0.004, total=   1.6s\n",
      "[CV] ridge__alpha=0.0001 .............................................\n",
      "[CV] ................ ridge__alpha=0.0001, score=-0.004, total=   1.7s\n",
      "[CV] ridge__alpha=0.0002511886431509582 ..............................\n",
      "[CV] . ridge__alpha=0.0002511886431509582, score=-0.004, total=   1.6s\n",
      "[CV] ridge__alpha=0.0002511886431509582 ..............................\n",
      "[CV] . ridge__alpha=0.0002511886431509582, score=-0.004, total=   1.6s\n",
      "[CV] ridge__alpha=0.0002511886431509582 ..............................\n",
      "[CV] . ridge__alpha=0.0002511886431509582, score=-0.003, total=   1.6s\n",
      "[CV] ridge__alpha=0.0002511886431509582 ..............................\n",
      "[CV] . ridge__alpha=0.0002511886431509582, score=-0.004, total=   1.6s\n",
      "[CV] ridge__alpha=0.0002511886431509582 ..............................\n",
      "[CV] . ridge__alpha=0.0002511886431509582, score=-0.004, total=   1.6s\n",
      "[CV] ridge__alpha=0.0006309573444801943 ..............................\n",
      "[CV] . ridge__alpha=0.0006309573444801943, score=-0.004, total=   1.5s\n",
      "[CV] ridge__alpha=0.0006309573444801943 ..............................\n",
      "[CV] . ridge__alpha=0.0006309573444801943, score=-0.004, total=   1.6s\n",
      "[CV] ridge__alpha=0.0006309573444801943 ..............................\n",
      "[CV] . ridge__alpha=0.0006309573444801943, score=-0.003, total=   1.5s\n",
      "[CV] ridge__alpha=0.0006309573444801943 ..............................\n",
      "[CV] . ridge__alpha=0.0006309573444801943, score=-0.004, total=   1.5s\n",
      "[CV] ridge__alpha=0.0006309573444801943 ..............................\n",
      "[CV] . ridge__alpha=0.0006309573444801943, score=-0.004, total=   1.6s\n",
      "[CV] ridge__alpha=0.001584893192461114 ...............................\n",
      "[CV] .. ridge__alpha=0.001584893192461114, score=-0.004, total=   1.5s\n",
      "[CV] ridge__alpha=0.001584893192461114 ...............................\n",
      "[CV] .. ridge__alpha=0.001584893192461114, score=-0.004, total=   1.6s\n",
      "[CV] ridge__alpha=0.001584893192461114 ...............................\n",
      "[CV] .. ridge__alpha=0.001584893192461114, score=-0.003, total=   1.5s\n",
      "[CV] ridge__alpha=0.001584893192461114 ...............................\n",
      "[CV] .. ridge__alpha=0.001584893192461114, score=-0.004, total=   1.5s\n",
      "[CV] ridge__alpha=0.001584893192461114 ...............................\n",
      "[CV] .. ridge__alpha=0.001584893192461114, score=-0.004, total=   1.5s\n",
      "[CV] ridge__alpha=0.003981071705534978 ...............................\n",
      "[CV] .. ridge__alpha=0.003981071705534978, score=-0.004, total=   1.5s\n",
      "[CV] ridge__alpha=0.003981071705534978 ...............................\n",
      "[CV] .. ridge__alpha=0.003981071705534978, score=-0.004, total=   1.5s\n",
      "[CV] ridge__alpha=0.003981071705534978 ...............................\n",
      "[CV] .. ridge__alpha=0.003981071705534978, score=-0.003, total=   1.5s\n",
      "[CV] ridge__alpha=0.003981071705534978 ...............................\n",
      "[CV] .. ridge__alpha=0.003981071705534978, score=-0.004, total=   1.5s\n",
      "[CV] ridge__alpha=0.003981071705534978 ...............................\n",
      "[CV] .. ridge__alpha=0.003981071705534978, score=-0.004, total=   1.5s\n",
      "[CV] ridge__alpha=0.01 ...............................................\n",
      "[CV] .................. ridge__alpha=0.01, score=-0.004, total=   1.6s\n",
      "[CV] ridge__alpha=0.01 ...............................................\n",
      "[CV] .................. ridge__alpha=0.01, score=-0.004, total=   1.6s\n",
      "[CV] ridge__alpha=0.01 ...............................................\n",
      "[CV] .................. ridge__alpha=0.01, score=-0.003, total=   1.6s\n",
      "[CV] ridge__alpha=0.01 ...............................................\n",
      "[CV] .................. ridge__alpha=0.01, score=-0.004, total=   1.6s\n",
      "[CV] ridge__alpha=0.01 ...............................................\n",
      "[CV] .................. ridge__alpha=0.01, score=-0.004, total=   1.5s\n"
     ]
    },
    {
     "name": "stderr",
     "output_type": "stream",
     "text": [
      "[Parallel(n_jobs=1)]: Done  80 out of  80 | elapsed:  2.1min finished\n"
     ]
    },
    {
     "data": {
      "text/plain": [
       "GridSearchCV(estimator=Pipeline(steps=[('minmaxscaler', MinMaxScaler()),\n",
       "                                       ('ridge', Ridge())]),\n",
       "             param_grid={'ridge__alpha': array([1.00000000e-08, 2.51188643e-08, 6.30957344e-08, 1.58489319e-07,\n",
       "       3.98107171e-07, 1.00000000e-06, 2.51188643e-06, 6.30957344e-06,\n",
       "       1.58489319e-05, 3.98107171e-05, 1.00000000e-04, 2.51188643e-04,\n",
       "       6.30957344e-04, 1.58489319e-03, 3.98107171e-03, 1.00000000e-02])},\n",
       "             scoring='neg_mean_squared_error', verbose=3)"
      ]
     },
     "execution_count": 17,
     "metadata": {},
     "output_type": "execute_result"
    }
   ],
   "source": [
    "gs = GridSearchCV(model, parameters, scoring='neg_mean_squared_error', verbose=3)\n",
    "gs.fit(X[good_cols], y, groups=groups)"
   ]
  },
  {
   "cell_type": "code",
   "execution_count": 18,
   "id": "b35eeca4",
   "metadata": {
    "execution": {
     "iopub.execute_input": "2022-02-19T07:21:06.450967Z",
     "iopub.status.busy": "2022-02-19T07:21:06.450271Z",
     "iopub.status.idle": "2022-02-19T07:21:06.452992Z",
     "shell.execute_reply": "2022-02-19T07:21:06.453503Z",
     "shell.execute_reply.started": "2022-02-19T06:21:06.617457Z"
    },
    "papermill": {
     "duration": 0.085544,
     "end_time": "2022-02-19T07:21:06.453691",
     "exception": false,
     "start_time": "2022-02-19T07:21:06.368147",
     "status": "completed"
    },
    "tags": []
   },
   "outputs": [
    {
     "name": "stdout",
     "output_type": "stream",
     "text": [
      "best score: 0.003910762503352294\n",
      "best estimator: Pipeline(steps=[('minmaxscaler', MinMaxScaler()), ('ridge', Ridge(alpha=0.01))])\n"
     ]
    }
   ],
   "source": [
    "print(f'best score: {-gs.best_score_}')\n",
    "print(f'best estimator: {gs.best_estimator_}')"
   ]
  },
  {
   "cell_type": "code",
   "execution_count": 19,
   "id": "0818be3b",
   "metadata": {
    "execution": {
     "iopub.execute_input": "2022-02-19T07:21:06.625065Z",
     "iopub.status.busy": "2022-02-19T07:21:06.624380Z",
     "iopub.status.idle": "2022-02-19T07:21:08.274078Z",
     "shell.execute_reply": "2022-02-19T07:21:08.274824Z",
     "shell.execute_reply.started": "2022-02-19T06:55:00.444027Z"
    },
    "papermill": {
     "duration": 1.743467,
     "end_time": "2022-02-19T07:21:08.275087",
     "exception": false,
     "start_time": "2022-02-19T07:21:06.531620",
     "status": "completed"
    },
    "tags": []
   },
   "outputs": [
    {
     "data": {
      "text/plain": [
       "Pipeline(steps=[('minmaxscaler', MinMaxScaler()), ('ridge', Ridge(alpha=0.01))])"
      ]
     },
     "execution_count": 19,
     "metadata": {},
     "output_type": "execute_result"
    }
   ],
   "source": [
    "rmodel = make_pipeline(MinMaxScaler(), Ridge(alpha=0.01))\n",
    "rmodel.fit(X[good_cols], y)"
   ]
  },
  {
   "cell_type": "code",
   "execution_count": 20,
   "id": "b2a5ee77",
   "metadata": {
    "execution": {
     "iopub.execute_input": "2022-02-19T07:21:08.488531Z",
     "iopub.status.busy": "2022-02-19T07:21:08.487933Z",
     "iopub.status.idle": "2022-02-19T07:21:08.873471Z",
     "shell.execute_reply": "2022-02-19T07:21:08.874299Z",
     "shell.execute_reply.started": "2022-02-19T06:55:01.266678Z"
    },
    "papermill": {
     "duration": 0.467115,
     "end_time": "2022-02-19T07:21:08.874605",
     "exception": false,
     "start_time": "2022-02-19T07:21:08.407490",
     "status": "completed"
    },
    "tags": []
   },
   "outputs": [],
   "source": [
    "X_test = feature_engineering(test_data, train=False)\n",
    "y_pred = rmodel.predict(X_test[good_cols].astype(float))"
   ]
  },
  {
   "cell_type": "markdown",
   "id": "76546c38",
   "metadata": {
    "papermill": {
     "duration": 0.080973,
     "end_time": "2022-02-19T07:21:09.087464",
     "exception": false,
     "start_time": "2022-02-19T07:21:09.006491",
     "status": "completed"
    },
    "tags": []
   },
   "source": [
    "# Use xgboost to fit the residual"
   ]
  },
  {
   "cell_type": "code",
   "execution_count": 21,
   "id": "b3db478e",
   "metadata": {
    "execution": {
     "iopub.execute_input": "2022-02-19T07:21:09.290184Z",
     "iopub.status.busy": "2022-02-19T07:21:09.250043Z",
     "iopub.status.idle": "2022-02-19T07:21:10.199349Z",
     "shell.execute_reply": "2022-02-19T07:21:10.200241Z",
     "shell.execute_reply.started": "2022-02-19T06:55:01.661912Z"
    },
    "papermill": {
     "duration": 1.032692,
     "end_time": "2022-02-19T07:21:10.200512",
     "exception": false,
     "start_time": "2022-02-19T07:21:09.167820",
     "status": "completed"
    },
    "tags": []
   },
   "outputs": [],
   "source": [
    "residual = y - rmodel.predict(X[good_cols])"
   ]
  },
  {
   "cell_type": "code",
   "execution_count": 22,
   "id": "b03e372c",
   "metadata": {
    "execution": {
     "iopub.execute_input": "2022-02-19T07:21:10.413343Z",
     "iopub.status.busy": "2022-02-19T07:21:10.412405Z",
     "iopub.status.idle": "2022-02-19T07:21:10.415056Z",
     "shell.execute_reply": "2022-02-19T07:21:10.414432Z",
     "shell.execute_reply.started": "2022-02-19T06:58:55.115021Z"
    },
    "papermill": {
     "duration": 0.087118,
     "end_time": "2022-02-19T07:21:10.415196",
     "exception": false,
     "start_time": "2022-02-19T07:21:10.328078",
     "status": "completed"
    },
    "tags": []
   },
   "outputs": [],
   "source": [
    "from xgboost import XGBRegressor\n",
    "\n",
    "param_xgb = {\n",
    "    'objective' : 'reg:squarederror',\n",
    "    'tree_method' : 'hist',\n",
    "    'learning_rate': 0.12,\n",
    "    'max_depth': 5,\n",
    "    'n_estimators': 240,\n",
    " }\n",
    "\n",
    "xgbmodel = XGBRegressor(**param_xgb)"
   ]
  },
  {
   "cell_type": "code",
   "execution_count": 23,
   "id": "3f3a8870",
   "metadata": {
    "execution": {
     "iopub.execute_input": "2022-02-19T07:21:10.576130Z",
     "iopub.status.busy": "2022-02-19T07:21:10.575198Z",
     "iopub.status.idle": "2022-02-19T07:21:14.391914Z",
     "shell.execute_reply": "2022-02-19T07:21:14.391319Z",
     "shell.execute_reply.started": "2022-02-19T06:59:11.537511Z"
    },
    "papermill": {
     "duration": 3.89924,
     "end_time": "2022-02-19T07:21:14.392050",
     "exception": false,
     "start_time": "2022-02-19T07:21:10.492810",
     "status": "completed"
    },
    "tags": []
   },
   "outputs": [
    {
     "data": {
      "text/plain": [
       "XGBRegressor(base_score=0.5, booster='gbtree', colsample_bylevel=1,\n",
       "             colsample_bynode=1, colsample_bytree=1, enable_categorical=False,\n",
       "             gamma=0, gpu_id=-1, importance_type=None,\n",
       "             interaction_constraints='', learning_rate=0.12, max_delta_step=0,\n",
       "             max_depth=5, min_child_weight=1, missing=nan,\n",
       "             monotone_constraints='()', n_estimators=240, n_jobs=4,\n",
       "             num_parallel_tree=1, predictor='auto', random_state=0, reg_alpha=0,\n",
       "             reg_lambda=1, scale_pos_weight=1, subsample=1, tree_method='hist',\n",
       "             validate_parameters=1, verbosity=None)"
      ]
     },
     "execution_count": 23,
     "metadata": {},
     "output_type": "execute_result"
    }
   ],
   "source": [
    "xgbmodel.fit(X[good_cols], residual)"
   ]
  },
  {
   "cell_type": "code",
   "execution_count": 24,
   "id": "568ffe1e",
   "metadata": {
    "execution": {
     "iopub.execute_input": "2022-02-19T07:21:14.550872Z",
     "iopub.status.busy": "2022-02-19T07:21:14.550285Z",
     "iopub.status.idle": "2022-02-19T07:21:14.976766Z",
     "shell.execute_reply": "2022-02-19T07:21:14.977309Z",
     "shell.execute_reply.started": "2022-02-19T06:59:50.924140Z"
    },
    "papermill": {
     "duration": 0.506872,
     "end_time": "2022-02-19T07:21:14.977505",
     "exception": false,
     "start_time": "2022-02-19T07:21:14.470633",
     "status": "completed"
    },
    "tags": []
   },
   "outputs": [],
   "source": [
    "y_pred = rmodel.predict(X_test[good_cols]) + xgbmodel.predict(X_test[good_cols])"
   ]
  },
  {
   "cell_type": "markdown",
   "id": "ba270a0a",
   "metadata": {
    "papermill": {
     "duration": 0.078519,
     "end_time": "2022-02-19T07:21:15.137751",
     "exception": false,
     "start_time": "2022-02-19T07:21:15.059232",
     "status": "completed"
    },
    "tags": []
   },
   "source": [
    "# Submission"
   ]
  },
  {
   "cell_type": "code",
   "execution_count": 25,
   "id": "f050c7ad",
   "metadata": {
    "execution": {
     "iopub.execute_input": "2022-02-19T07:21:15.302069Z",
     "iopub.status.busy": "2022-02-19T07:21:15.301241Z",
     "iopub.status.idle": "2022-02-19T07:21:15.322339Z",
     "shell.execute_reply": "2022-02-19T07:21:15.322879Z",
     "shell.execute_reply.started": "2022-02-19T07:00:12.738567Z"
    },
    "papermill": {
     "duration": 0.106335,
     "end_time": "2022-02-19T07:21:15.323045",
     "exception": false,
     "start_time": "2022-02-19T07:21:15.216710",
     "status": "completed"
    },
    "tags": []
   },
   "outputs": [],
   "source": [
    "sub = test_data.reset_index()[['row_id']].copy()\n",
    "sub['num_sold'] = np.exp(y_pred).round()\n",
    "sub.to_csv('submission.csv', index=False)"
   ]
  }
 ],
 "metadata": {
  "kernelspec": {
   "display_name": "Python 3",
   "language": "python",
   "name": "python3"
  },
  "language_info": {
   "codemirror_mode": {
    "name": "ipython",
    "version": 3
   },
   "file_extension": ".py",
   "mimetype": "text/x-python",
   "name": "python",
   "nbconvert_exporter": "python",
   "pygments_lexer": "ipython3",
   "version": "3.7.12"
  },
  "papermill": {
   "default_parameters": {},
   "duration": 441.026057,
   "end_time": "2022-02-19T07:21:16.110724",
   "environment_variables": {},
   "exception": null,
   "input_path": "__notebook__.ipynb",
   "output_path": "__notebook__.ipynb",
   "parameters": {},
   "start_time": "2022-02-19T07:13:55.084667",
   "version": "2.3.3"
  }
 },
 "nbformat": 4,
 "nbformat_minor": 5
}
